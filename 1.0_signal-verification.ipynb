{
 "cells": [
  {
   "cell_type": "code",
   "execution_count": 1,
   "metadata": {},
   "outputs": [],
   "source": [
    "from utils.signal import EMGSignal, Signal, SignalPlotter\n",
    "import numpy as np\n",
    "import pandas as pd\n",
    "import matplotlib.pyplot as plt\n",
    "import json\n",
    "\n",
    "import matplotlib.pylab as pylab\n",
    "params = {\n",
    "    'legend.fontsize': 'x-large',\n",
    "    'figure.figsize': (24, 6),\n",
    "    'axes.labelsize': 'x-large',\n",
    "    'axes.titlesize':'x-large',\n",
    "    'xtick.labelsize':'x-large',\n",
    "    'ytick.labelsize':'x-large'\n",
    "}\n",
    "pylab.rcParams.update(params)"
   ]
  },
  {
   "cell_type": "code",
   "execution_count": 2,
   "metadata": {},
   "outputs": [],
   "source": [
    "def read_data(datapath: str, fs: int = None) -> tuple[dict, list[Signal]]:\n",
    "    df = pd.read_excel(f\"{datapath}.xlsx\")\n",
    "    values = df.to_numpy()\n",
    "    with open(f\"{datapath}_points.json\", \"r\") as f:\n",
    "        points = json.load(f)\n",
    "    \n",
    "    return (\n",
    "        points,\n",
    "        [\n",
    "            EMGSignal(values[:, 0], values[:, 1], fs=fs),\n",
    "            EMGSignal(values[:, 0], values[:, 2], fs=fs),\n",
    "            EMGSignal(values[:, 0], values[:, 3], fs=fs),\n",
    "        ]\n",
    "    )"
   ]
  },
  {
   "cell_type": "code",
   "execution_count": null,
   "metadata": {},
   "outputs": [],
   "source": [
    "DATA_PATH = \"data/1/1min/exp_1\"\n",
    "FS = 1000\n",
    "\n",
    "pt, signals = read_data(DATA_PATH, FS)\n",
    "\n",
    "for signal in signals:\n",
    "    signal.baseline(pt[\"baseline\"]).bandpass(20, 450).notch()\n",
    "    SignalPlotter.psd(signal)\n",
    "    signal.lowpass(40).crop(pt[\"close_0\"]-0.01, pt[\"open_2\"] + 0.01)\n",
    "time = signals[0].x"
   ]
  },
  {
   "cell_type": "code",
   "execution_count": null,
   "metadata": {},
   "outputs": [],
   "source": [
    "plt.figure(figsize=(24, 6))\n",
    "plt.plot(time, signals[0].y, label=\"EMG 1\", alpha=0.7, color=\"blue\")\n",
    "plt.plot(time, signals[1].y, label=\"EMG 2\", alpha=0.7, color=\"gray\")\n",
    "plt.plot(time, signals[2].y, label=\"EMG 3\", alpha=0.7, color=\"purple\")\n",
    "\n",
    "periods = []\n",
    "c = [\"r\", \"g\"]\n",
    "for i in range(3):\n",
    "    t0 = np.argwhere(time >= pt[f\"close_{i}\"])[0][0]\n",
    "    tf = np.argwhere(time >= pt[f\"open_{i}\"])[0][0]\n",
    "    periods.extend([t0, tf])\n",
    "for i in range(len(periods) - 1):\n",
    "    if i in [0, 1]:\n",
    "        plt.axvspan(\n",
    "            time[periods[i]],\n",
    "            time[periods[i + 1]],\n",
    "            color=c[i % 2],\n",
    "            alpha=0.3,\n",
    "            label=f\"{'Sitdown action' if i % 2 == 0 else 'Stand up action'}\",\n",
    "        )\n",
    "    else:\n",
    "        plt.axvspan(\n",
    "            time[periods[i]],\n",
    "            time[periods[i + 1]],\n",
    "            color=c[i % 2],\n",
    "            alpha=0.3,\n",
    "        )\n",
    "plt.xlabel(\"Time (seconds)\")\n",
    "plt.ylabel(\"Amplitude (voltes)\")\n",
    "plt.legend()\n",
    "plt.grid(linewidth=1, linestyle=\"--\", alpha=0.7)\n",
    "plt.show()"
   ]
  }
 ],
 "metadata": {
  "kernelspec": {
   "display_name": "base",
   "language": "python",
   "name": "python3"
  },
  "language_info": {
   "codemirror_mode": {
    "name": "ipython",
    "version": 3
   },
   "file_extension": ".py",
   "mimetype": "text/x-python",
   "name": "python",
   "nbconvert_exporter": "python",
   "pygments_lexer": "ipython3",
   "version": "3.12.4"
  }
 },
 "nbformat": 4,
 "nbformat_minor": 2
}
